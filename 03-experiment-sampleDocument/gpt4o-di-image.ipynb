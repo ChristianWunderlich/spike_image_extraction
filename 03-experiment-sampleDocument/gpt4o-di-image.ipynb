{
 "cells": [
  {
   "cell_type": "code",
   "execution_count": 2,
   "metadata": {},
   "outputs": [],
   "source": [
    "#!pip install python-dotenv\n",
    "#!pip install openai\n",
    "#!pip install imageio\n",
    "#!pip install azure-ai-formrecognizer\n",
    "#!pip install azure-core"
   ]
  },
  {
   "cell_type": "code",
   "execution_count": 3,
   "metadata": {},
   "outputs": [
    {
     "data": {
      "text/plain": [
       "True"
      ]
     },
     "execution_count": 3,
     "metadata": {},
     "output_type": "execute_result"
    }
   ],
   "source": [
    "from openai import AzureOpenAI\n",
    "import dotenv\n",
    "import os\n",
    "import base64\n",
    "from azure.core.credentials import AzureKeyCredential\n",
    "\n",
    "dotenv.load_dotenv(override=True)"
   ]
  },
  {
   "cell_type": "code",
   "execution_count": 4,
   "metadata": {},
   "outputs": [],
   "source": [
    "client = AzureOpenAI(\n",
    "    azure_endpoint=os.getenv('AzureOpenAiEndpoint'),\n",
    "    api_key=os.getenv('AzureOpenAiKey'),\n",
    "    azure_deployment='gpt-4o',\n",
    "    api_version='2024-02-15-preview'\n",
    ")"
   ]
  },
  {
   "cell_type": "code",
   "execution_count": 5,
   "metadata": {},
   "outputs": [],
   "source": [
    "with open(\"aspirin_graph.png\", \"rb\") as image_file:\n",
    "    aspirin_graph = base64.b64encode(image_file.read()).decode('utf-8')\n",
    "\n",
    "with open(\"aspirin_picture.png\", \"rb\") as image_file:\n",
    "    aspirin_picture = base64.b64encode(image_file.read()).decode('utf-8')\n",
    "\n",
    "with open(\"aspirin_tables.png\", \"rb\") as image_file:\n",
    "    aspirin_tables = base64.b64encode(image_file.read()).decode('utf-8')\n",
    "\n",
    "with open(\"msft.png\", \"rb\") as image_file:\n",
    "    msft_tables = base64.b64encode(image_file.read()).decode('utf-8')"
   ]
  },
  {
   "cell_type": "code",
   "execution_count": 7,
   "metadata": {},
   "outputs": [],
   "source": [
    "def analyze_document(encoded_image,prompt):\n",
    "    res = client.chat.completions.create(\n",
    "        model=\"gpt-4o\",\n",
    "        messages=[\n",
    "            {\n",
    "                \"role\": \"user\",\n",
    "                \"content\": [\n",
    "                    {\"type\": \"text\", \"text\": prompt },\n",
    "                    {\n",
    "                        \"type\": \"image_url\",\n",
    "                        \"image_url\": {\"url\": f\"data:image/png;base64,{encoded_image}\"}\n",
    "                    },\n",
    "                ],\n",
    "            }\n",
    "        ],\n",
    "        max_tokens=300,\n",
    "    )\n",
    "    return res.choices[0].message.content"
   ]
  },
  {
   "cell_type": "code",
   "execution_count": 7,
   "metadata": {},
   "outputs": [
    {
     "data": {
      "text/plain": [
       "'The image is a line graph titled \"Total Prescriptions and Patients Per Year (2013 - 2021).\" It depicts the trend of total prescriptions and total patients over an eight-year period from 2013 to 2021. \\n\\n**Key Features of the Graph:**\\n- **X-Axis (Horizontal):** Represents the years from 2013 to 2021.\\n- **Y-Axis (Vertical):** Indicates the count, ranging from 0 to 30,000,000.\\n- **Blue Line:** Represents \"Total Prescriptions.\"\\n- **Red Line:** Represents \"Total Patients.\"\\n\\n**Summary of the Data:**\\n- **Total Prescriptions:** \\n  - Experienced fluctuations over the years.\\n  - Peaked around 2015 and 2018.\\n  - Minor decreases and increases, yet relatively stable between 18,000,000 to 22,000,000 annually.\\n\\n- **Total Patients:**\\n  - Remains relatively stable throughout the entire period.\\n  - Hovers around 8,000,000 to 10,000,000 with minor increases and decreases, demonstrating a less variable trend than prescriptions. \\n\\nOverall, while the number of total prescriptions shows more variability with periodic peaks and troughs, the number of total patients remains fairly consistent over the years.'"
      ]
     },
     "execution_count": 7,
     "metadata": {},
     "output_type": "execute_result"
    }
   ],
   "source": [
    "prompt = 'Describe the image and provide a summary of the data.'\n",
    "analyze_document(aspirin_graph, prompt)"
   ]
  },
  {
   "cell_type": "code",
   "execution_count": 8,
   "metadata": {},
   "outputs": [
    {
     "data": {
      "text/plain": [
       "'In 2013, the total amount of patients was approximately 8 million according to the graph.'"
      ]
     },
     "execution_count": 8,
     "metadata": {},
     "output_type": "execute_result"
    }
   ],
   "source": [
    "prompt = 'What was the total amount of patients in the year 2013.'\n",
    "analyze_document(aspirin_graph, prompt)"
   ]
  },
  {
   "cell_type": "code",
   "execution_count": 11,
   "metadata": {},
   "outputs": [
    {
     "data": {
      "text/plain": [
       "'The image displays an overturned bottle of TopCare Aspirin, with numerous white, round tablets spilled out onto a flat surface. The label on the bottle indicates that it contains coated aspirin tablets, with a dosage of 325 mg per tablet, which are likely intended for pain relief, anti-inflammatory, or antipyretic (fever-reducing) uses.\\n\\nSummary of the data:\\n- Product: TopCare Aspirin\\n- Form: Coated tablets\\n- Dosage: 325 mg per tablet\\n- Visual: White, round tablets have spilled out from a clear bottle with a label.'"
      ]
     },
     "execution_count": 11,
     "metadata": {},
     "output_type": "execute_result"
    }
   ],
   "source": [
    "prompt = 'Describe the image and provide a summary of the data.'\n",
    "analyze_document(aspirin_picture, prompt)"
   ]
  },
  {
   "cell_type": "code",
   "execution_count": 14,
   "metadata": {},
   "outputs": [
    {
     "data": {
      "text/plain": [
       "'To find the average percentage of aspirin prescriptions for all countries listed, you would add up the percentages for all countries and then divide by the number of countries.\\n\\nThe percentages are:\\n- Russia: 27.7%\\n- Germany: 43.0%\\n- France: 37.5%\\n- United Kingdom: 33.9%\\n- Italy: 31.0%\\n- Spain: 30.1%\\n\\nNow add these percentages together:\\n27.7 + 43.0 + 37.5 + 33.9 + 31.0 + 30.1 = 203.2\\n\\nNext, divide by the number of countries (6):\\n203.2 / 6 ≈ 33.87\\n\\nTherefore, the average percentage of aspirin prescriptions for all countries is approximately 33.87%.'"
      ]
     },
     "execution_count": 14,
     "metadata": {},
     "output_type": "execute_result"
    }
   ],
   "source": [
    "prompt = 'What is the average percentage of aspirin prescriptions for all countires?'\n",
    "analyze_document(aspirin_tables, prompt)"
   ]
  },
  {
   "cell_type": "markdown",
   "metadata": {},
   "source": [
    "As you can see, the outcome is wrong.\n",
    "\n",
    "![](result_table_1_correct.png)"
   ]
  },
  {
   "cell_type": "code",
   "execution_count": 11,
   "metadata": {},
   "outputs": [
    {
     "data": {
      "text/plain": [
       "'The Equity investments of Level 1 for Recorded Basis of 2023 is $10,138 million.'"
      ]
     },
     "execution_count": 11,
     "metadata": {},
     "output_type": "execute_result"
    }
   ],
   "source": [
    "prompt = 'What is the Equity investments of Level 1 for Recorded Basis of 2023?'\n",
    "analyze_document(msft_tables, prompt)"
   ]
  },
  {
   "cell_type": "code",
   "execution_count": 12,
   "metadata": {},
   "outputs": [
    {
     "data": {
      "text/plain": [
       "'Here is the table converted to JSON format:\\n\\n```json\\n{\\n  \"June 30, 2023\": {\\n    \"Changes in Fair Value Recorded in Other Comprehensive Income\": {\\n      \"Commercial paper\": {\\n        \"Fair Value Level\": \"2\",\\n        \"Adjusted Cost Basis\": 16859,\\n        \"Unrealized Gains\": 0,\\n        \"Unrealized Losses\": 0,\\n        \"Recorded Basis\": 16859,\\n        \"Cash and Cash Equivalents\": 12231,\\n        \"Short-term Investments\": 4358,\\n        \"Equity Investments\": 0\\n      },\\n      \"Certificates of deposit\": {\\n        \"Fair Value Level\": \"2\",\\n        \"Adjusted Cost Basis\": 2701,\\n        \"Unrealized Gains\": 0,\\n        \"Unrealized Losses\": 0,\\n        \"Recorded Basis\": 2701,\\n        \"Cash and Cash Equivalents\": 2657,\\n        \"Short-term Investments\": 44,\\n        \"Equity Investments\": 0\\n      },\\n      \"U.S. government securities\": {\\n        \"Fair Value Level\": \"1\",\\n        \"Adjusted Cost Basis\": 65237,\\n        \"Unrealized Gains\": 2,\\n        \"Unrealized Losses\": 3870,\\n        \"Recorded Basis\": 61369,\\n        \"Cash and Cash Equivalents\": 2991,\\n        \"Short-term Investments\": 58378,\\n        \"Equ'"
      ]
     },
     "execution_count": 12,
     "metadata": {},
     "output_type": "execute_result"
    }
   ],
   "source": [
    "prompt = 'Output this table as json'\n",
    "analyze_document(msft_tables, prompt)"
   ]
  }
 ],
 "metadata": {
  "kernelspec": {
   "display_name": ".venv",
   "language": "python",
   "name": "python3"
  },
  "language_info": {
   "codemirror_mode": {
    "name": "ipython",
    "version": 3
   },
   "file_extension": ".py",
   "mimetype": "text/x-python",
   "name": "python",
   "nbconvert_exporter": "python",
   "pygments_lexer": "ipython3",
   "version": "3.11.9"
  }
 },
 "nbformat": 4,
 "nbformat_minor": 2
}
