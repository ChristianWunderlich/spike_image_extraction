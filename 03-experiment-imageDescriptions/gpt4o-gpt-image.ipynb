{
 "cells": [
  {
   "cell_type": "code",
   "execution_count": 4,
   "metadata": {},
   "outputs": [],
   "source": [
    "#!pip install python-dotenv\n",
    "#!pip install openai\n",
    "#!pip install imageio\n",
    "#!pip install azure-ai-formrecognizer\n",
    "#!pip install azure-core"
   ]
  },
  {
   "cell_type": "code",
   "execution_count": 5,
   "metadata": {},
   "outputs": [
    {
     "data": {
      "text/plain": [
       "True"
      ]
     },
     "execution_count": 5,
     "metadata": {},
     "output_type": "execute_result"
    }
   ],
   "source": [
    "from openai import AzureOpenAI\n",
    "import dotenv\n",
    "import os\n",
    "import base64\n",
    "from azure.core.credentials import AzureKeyCredential\n",
    "\n",
    "dotenv.load_dotenv(override=True)"
   ]
  },
  {
   "cell_type": "code",
   "execution_count": 6,
   "metadata": {},
   "outputs": [],
   "source": [
    "client = AzureOpenAI(\n",
    "    azure_endpoint=os.getenv('AzureOpenAiEndpoint'),\n",
    "    api_key=os.getenv('AzureOpenAiKey'),\n",
    "    azure_deployment='gpt-4o',\n",
    "    api_version='2024-02-15-preview'\n",
    ")"
   ]
  },
  {
   "cell_type": "code",
   "execution_count": 12,
   "metadata": {},
   "outputs": [],
   "source": [
    "with open(\"aspirine.jpg\", \"rb\") as image_file:\n",
    "    aspirine = base64.b64encode(image_file.read()).decode('utf-8')\n",
    "with open(\"flowchart.png\", \"rb\") as image_file:\n",
    "    flowchart = base64.b64encode(image_file.read()).decode('utf-8')\n",
    "with open(\"flowchart2.jpg\", \"rb\") as image_file:\n",
    "    flowchart2 = base64.b64encode(image_file.read()).decode('utf-8')\n",
    "with open(\"rag.png\", \"rb\") as image_file:\n",
    "    rag = base64.b64encode(image_file.read()).decode('utf-8')\n",
    "with open(\"tablet.jpg\", \"rb\") as image_file:\n",
    "    tablet = base64.b64encode(image_file.read()).decode('utf-8')\n"
   ]
  },
  {
   "cell_type": "code",
   "execution_count": 8,
   "metadata": {},
   "outputs": [],
   "source": [
    "def analyze_document_png(encoded_image,prompt):\n",
    "    res = client.chat.completions.create(\n",
    "        model=\"gpt-4o\",\n",
    "        messages=[\n",
    "            {\n",
    "                \"role\": \"user\",\n",
    "                \"content\": [\n",
    "                    {\"type\": \"text\", \"text\": prompt },\n",
    "                    {\n",
    "                        \"type\": \"image_url\",\n",
    "                        \"image_url\": {\"url\": f\"data:image/png;base64,{encoded_image}\"}\n",
    "                    },\n",
    "                ],\n",
    "            }\n",
    "        ],\n",
    "        max_tokens=300,\n",
    "    )\n",
    "    return res.choices[0].message.content\n",
    "\n",
    "def analyze_document_jpg(encoded_image,prompt):\n",
    "    res = client.chat.completions.create(\n",
    "        model=\"gpt-4o\",\n",
    "        messages=[\n",
    "            {\n",
    "                \"role\": \"user\",\n",
    "                \"content\": [\n",
    "                    {\"type\": \"text\", \"text\": prompt },\n",
    "                    {\n",
    "                        \"type\": \"image_url\",\n",
    "                        \"image_url\": {\"url\": f\"data:image/jpg;base64,{encoded_image}\"}\n",
    "                    },\n",
    "                ],\n",
    "            }\n",
    "        ],\n",
    "        max_tokens=300,\n",
    "    )\n",
    "    return res.choices[0].message.content"
   ]
  },
  {
   "cell_type": "code",
   "execution_count": 9,
   "metadata": {},
   "outputs": [
    {
     "data": {
      "text/plain": [
       "'The image shows the packaging for Aspirine, a medication produced by Bayer. Here are the details from the packaging:\\n\\n1. **Product Name**: ASPIRINE\\n2. **Dosage**: 500 mg per tablet\\n3. **Active Ingredient**: Acetylsalicylic acid (indicated by \"per tablet 500 mg acetylsalicylzuur\" which is Dutch for acetylsalicylic acid)\\n4. **Quantity**: 20 tablets (\"20 tabletten\")\\n5. **Manufacturer**: Bayer, as indicated by the Bayer logo on the left side of the packaging.\\n6. **Usage Instructions**: Complete instructions are in Dutch.\\n    - \"Wijze van gebruik: De tablet(ten) met een ruime hoeveelheid water na een maaltijd innemen.\"\\n    - This translates to: \"Usage instructions: Take the tablets with a generous amount of water after a meal.\"\\n7. **Visual**: The package is mainly white with green accents below the product name. There are two images of round tablets at the bottom right, both labeled \"0.5\".\\n\\nThe text is prominent and well-organized, designed to be easy to read and understand.'"
      ]
     },
     "execution_count": 9,
     "metadata": {},
     "output_type": "execute_result"
    }
   ],
   "source": [
    "prompt = 'Describe the given picture with as much as details as possible'\n",
    "analyze_document_jpg(aspirine, prompt)"
   ]
  },
  {
   "cell_type": "code",
   "execution_count": 13,
   "metadata": {},
   "outputs": [
    {
     "data": {
      "text/plain": [
       "\"The flowchart outlines the steps involved in the recruitment process. Here's a detailed description:\\n\\n1. **Start and Define Job Description**\\n   - The process begins with defining the job description.\\n\\n2. **Request Personnel to HR**\\n   - A request for personnel is submitted to Human Resources (HR).\\n\\n3. **Classify Job Hiring**\\n   - The type of job hiring is classified.\\n\\n4. **Is it a Regular Process?**\\n   - A decision is made on whether it is a regular hiring process or not:\\n     - If **NO, Special Hiring Process**\\n       - Follow the special hiring process path.\\n     - If **YES, Create Job Posting**\\n       - Create a job posting for the vacancy.\\n\\n5. **Review Previous Candidate**\\n   - Before proceeding with the job posting, review previous candidates.\\n\\n6. **Is the Candidate Suitable for the Job?**\\n   - Evaluate if the previous candidate is suitable for the job:\\n     - If **YES, Setup a Meeting with Candidate**\\n       - Set up a meeting with the candidate.\\n     - If **NO, Make a Hiring Plan**\\n       - Create a new hiring plan.\\n\\n7. **Create Job Posting Online & Collect Resumes**\\n   - The job posting is published online and resumes are collected from applicants.\\n\\n8. **Is the Candidate Qualified?**\\n   - Determine if a candidate is qualified:\\n     - If **YES, Setup a Meeting with Candidate**\\n       - Proceed to set up a meeting with the qualified candidate.\\n    \""
      ]
     },
     "execution_count": 13,
     "metadata": {},
     "output_type": "execute_result"
    }
   ],
   "source": [
    "prompt = 'Describe the given flowchart as best as you can.'\n",
    "analyze_document_png(flowchart, prompt)"
   ]
  },
  {
   "cell_type": "code",
   "execution_count": 14,
   "metadata": {},
   "outputs": [
    {
     "data": {
      "text/plain": [
       "'This flowchart is titled \"Flussdiagramm\" (Flow Diagram in English) and outlines a sequence of processes based on given input. Here\\'s a detailed description of the flowchart:\\n\\n1. **Start with Input**\\n   - The process begins with an input termed \"Vorgabe (Input)\".\\n\\n2. **Prozessschritt 1**\\n   - The input leads to \"Prozessschritt 1\" (Process Step 1).\\n   - After this step, a document (\"Dokument\") is generated.\\n\\n3. **Condition Check**\\n   - The next step is to check whether a certain condition is met (\"Bedingung erfüllt?\").\\n   - This decision node has two possible paths:\\n     - If the condition is **not met** (\"nein\"), the process moves to another separate process (\"Prozess\").\\n     - If the condition is **met** (\"ja\"), the flow proceeds to \"Prozessschritt 2\" (Process Step 2).\\n\\n4. **Prozessschritt 2**\\n   - After \"Prozessschritt 2\", another document (\"Dokument\") is generated.\\n\\n5. **Prozessschritt 3**\\n   - The flow continues to \"Prozessschritt 3\" (Process Step 3).\\n   - After this step, a file (\"Datei\") is produced.\\n\\n6. **Output**\\n   - The final result or output of the entire process is termed \"Ergebnis (Output)\".\\n\\nDocument generation'"
      ]
     },
     "execution_count": 14,
     "metadata": {},
     "output_type": "execute_result"
    }
   ],
   "source": [
    "prompt = 'Describe the given flowchart as best as you can.'\n",
    "analyze_document_jpg(flowchart2, prompt)"
   ]
  },
  {
   "cell_type": "code",
   "execution_count": 15,
   "metadata": {},
   "outputs": [
    {
     "data": {
      "text/plain": [
       "\"The image depicts an IT architecture for Retrieval Augmented Generation (RAG) with embeddings. Here’s a detailed breakdown of the architecture:\\n\\n1. **User Interaction:**\\n   - The process starts with a user question, which is represented as an input from a user device (e.g., a smartphone).\\n\\n2. **Retrieval Phase:**\\n   - The user's question is sent to the **Retriever over Knowledge Base**.\\n   - The retriever operates by sending a query to the **Large Language Model (Embedding)**, which processes the query and generates a vector representation.\\n   - The vector and the original query are then sent to a **Search Index** to search for relevant content.\\n   - The search index returns search results based on the vector and query, which are then sent back to the retriever.\\n\\n3. **Generation Phase:**\\n   - The retriever aggregates the search results, combining the retrieved content with the prompt (user question) and acquired knowledge.\\n   - This combined information is used to query a **Large Language Model (Chat)**.\\n   - The large language model generates a response based on the prompt and the retrieved knowledge.\\n\\n4. **Answer Delivery:**\\n   - The response generated by the large language model is then provided as an answer back to the user.\\n\\n**Flow of Data:**\\n\\n- **User Question** → Sent to the retriever.\\n- **Retriever** → Queries the **Large Language Model (Embedding)** to get a vector.\\n- **Vector +\""
      ]
     },
     "execution_count": 15,
     "metadata": {},
     "output_type": "execute_result"
    }
   ],
   "source": [
    "prompt = 'Describe the given IT Architecture as best as possible. Include as many information as possible from the picture.'\n",
    "analyze_document_png(rag, prompt)"
   ]
  },
  {
   "cell_type": "code",
   "execution_count": 16,
   "metadata": {},
   "outputs": [
    {
     "data": {
      "text/plain": [
       "'The image shows a close-up view of two hands. The left hand is holding a transparent glass of water, and the right hand is open, palm up, holding a single yellow capsule-like pill. The background is a plain, light-colored surface, and there are some light reflections or shadows on the background, possibly indicating sunlight or a bright light source from above. The focus is on the hands, the pill, and the glass, highlighting a moment where someone is about to take the pill with water. The clear glass also shows a slight reflection of light. The image is credited to Kanur Ismail, as noted by the watermark from iStock.'"
      ]
     },
     "execution_count": 16,
     "metadata": {},
     "output_type": "execute_result"
    }
   ],
   "source": [
    "prompt = 'Describe the given picture with as much as details as possible'\n",
    "analyze_document_jpg(tablet, prompt)"
   ]
  }
 ],
 "metadata": {
  "kernelspec": {
   "display_name": ".venv",
   "language": "python",
   "name": "python3"
  },
  "language_info": {
   "codemirror_mode": {
    "name": "ipython",
    "version": 3
   },
   "file_extension": ".py",
   "mimetype": "text/x-python",
   "name": "python",
   "nbconvert_exporter": "python",
   "pygments_lexer": "ipython3",
   "version": "3.11.9"
  }
 },
 "nbformat": 4,
 "nbformat_minor": 2
}
