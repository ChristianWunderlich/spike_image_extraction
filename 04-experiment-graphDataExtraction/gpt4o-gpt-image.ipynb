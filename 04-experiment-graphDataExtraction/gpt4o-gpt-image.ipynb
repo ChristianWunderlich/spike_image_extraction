{
 "cells": [
  {
   "cell_type": "code",
   "execution_count": 1,
   "metadata": {},
   "outputs": [],
   "source": [
    "#!pip install python-dotenv\n",
    "#!pip install openai\n",
    "#!pip install imageio\n",
    "#!pip install azure-ai-formrecognizer\n",
    "#!pip install azure-core"
   ]
  },
  {
   "cell_type": "code",
   "execution_count": 2,
   "metadata": {},
   "outputs": [
    {
     "data": {
      "text/plain": [
       "True"
      ]
     },
     "execution_count": 2,
     "metadata": {},
     "output_type": "execute_result"
    }
   ],
   "source": [
    "from openai import AzureOpenAI\n",
    "import dotenv\n",
    "import os\n",
    "import base64\n",
    "from azure.core.credentials import AzureKeyCredential\n",
    "\n",
    "dotenv.load_dotenv(override=True)"
   ]
  },
  {
   "cell_type": "code",
   "execution_count": 3,
   "metadata": {},
   "outputs": [],
   "source": [
    "client = AzureOpenAI(\n",
    "    azure_endpoint=os.getenv('AzureOpenAiEndpoint'),\n",
    "    api_key=os.getenv('AzureOpenAiKey'),\n",
    "    azure_deployment='gpt-4o',\n",
    "    api_version='2024-02-15-preview'\n",
    ")"
   ]
  },
  {
   "cell_type": "code",
   "execution_count": 4,
   "metadata": {},
   "outputs": [],
   "source": [
    "with open(\"graph1.png\", \"rb\") as image_file:\n",
    "    graph1 = base64.b64encode(image_file.read()).decode('utf-8')\n",
    "with open(\"graph2.png\", \"rb\") as image_file:\n",
    "    graph2 = base64.b64encode(image_file.read()).decode('utf-8')\n",
    "with open(\"graph3.png\", \"rb\") as image_file:\n",
    "    graph3 = base64.b64encode(image_file.read()).decode('utf-8')\n"
   ]
  },
  {
   "cell_type": "code",
   "execution_count": 10,
   "metadata": {},
   "outputs": [],
   "source": [
    "def analyze_document_png(encoded_image,prompt):\n",
    "    res = client.chat.completions.create(\n",
    "        model=\"gpt-4o\",\n",
    "        messages=[\n",
    "            {\n",
    "                \"role\": \"user\",\n",
    "                \"content\": [\n",
    "                    {\"type\": \"text\", \"text\": prompt },\n",
    "                    {\n",
    "                        \"type\": \"image_url\",\n",
    "                        \"image_url\": {\"url\": f\"data:image/png;base64,{encoded_image}\"}\n",
    "                    },\n",
    "                ],\n",
    "            }\n",
    "        ],\n",
    "    )\n",
    "    return res.choices[0].message.content\n",
    "\n",
    "def analyze_document_jpg(encoded_image,prompt):\n",
    "    res = client.chat.completions.create(\n",
    "        model=\"gpt-4o\",\n",
    "        messages=[\n",
    "            {\n",
    "                \"role\": \"user\",\n",
    "                \"content\": [\n",
    "                    {\"type\": \"text\", \"text\": prompt },\n",
    "                    {\n",
    "                        \"type\": \"image_url\",\n",
    "                        \"image_url\": {\"url\": f\"data:image/jpg;base64,{encoded_image}\"}\n",
    "                    },\n",
    "                ],\n",
    "            }\n",
    "        ],\n",
    "    )\n",
    "    return res.choices[0].message.content"
   ]
  },
  {
   "cell_type": "code",
   "execution_count": 6,
   "metadata": {},
   "outputs": [
    {
     "data": {
      "text/plain": [
       "'The graph presents data on the total number of prescriptions and the total number of patients each year from 2013 to 2021.\\n\\n1. **Total Prescriptions (blue line)**:\\n   - **2013**: Approximately 19,000,000 prescriptions.\\n   - **2014**: Slight increase to about 20,000,000 prescriptions.\\n   - **2015**: Peak at approximately 22,000,000 prescriptions, the highest point on the graph.\\n   - **2016**: Slight decrease to around 21,000,000 prescriptions.\\n   - **2017**: Noticeable drop to around 19,000,000 prescriptions.\\n   - **2018**: Marginal recovery to about 20,000,000 prescriptions.\\n   - **2019**: Small drop again to about 19,500,000 prescriptions.\\n   - **2020**: Stability continues around 19,000,000 prescriptions.\\n   - **2021**: Slight increase back up to approximately 20,000,000 prescriptions.\\n\\n2. **Total Patients (red line)**:\\n   - Throughout the period 2013 to 2021, the total number of patients remains relatively constant, fluctuating mildly around 10,000,000 patients. The trend demonstrates minimal variation with every data point hovering close to this mark. \\n\\nIn summary, total prescriptions exhibit more variability over the years, with a peak in 2015 and more fluctuations afterward.'"
      ]
     },
     "execution_count": 6,
     "metadata": {},
     "output_type": "execute_result"
    }
   ],
   "source": [
    "prompt = 'Describe the given graph with as much as details as possible'\n",
    "analyze_document_png(graph1, prompt)"
   ]
  },
  {
   "cell_type": "code",
   "execution_count": 13,
   "metadata": {},
   "outputs": [
    {
     "data": {
      "text/plain": [
       "'To determine the total prescriptions and total patients for 2015 and 2017, we can use the graph provided.\\n\\n**2015:**\\n- Total Prescriptions: Approximately 22,000,000\\n- Total Patients: Approximately 9,000,000\\n\\n**2017:**\\n- Total Prescriptions: Approximately 20,000,000\\n- Total Patients: Approximately 9,000,000\\n\\nThese values are estimated based on the data points in the graph.'"
      ]
     },
     "execution_count": 13,
     "metadata": {},
     "output_type": "execute_result"
    }
   ],
   "source": [
    "prompt = 'Show the total precscriptions as well as the total patients for 2015 and 2017'\n",
    "analyze_document_png(graph1, prompt)"
   ]
  },
  {
   "cell_type": "code",
   "execution_count": 16,
   "metadata": {},
   "outputs": [],
   "source": [
    "prompt = 'Describe the graph as best as you can and include as much as information as possibe to answer future questions about this graph based on the text you provide.'\n",
    "graph_desc = analyze_document_png(graph1, prompt)"
   ]
  },
  {
   "cell_type": "code",
   "execution_count": 18,
   "metadata": {},
   "outputs": [],
   "source": [
    "def document_ask(prompt,analyzedDocumentContent):\n",
    "    response =client.chat.completions.create(\n",
    "        model='gpt-4o',\n",
    "        messages=[\n",
    "            {\n",
    "                'role': 'user',\n",
    "                'content': prompt\n",
    "            },\n",
    "            {\n",
    "                'role': 'system',\n",
    "                'content': f'You know about this file: {analyzedDocumentContent}'\n",
    "            }\n",
    "        ]\n",
    "    )\n",
    "    return response.choices[0].message.content"
   ]
  },
  {
   "cell_type": "code",
   "execution_count": 19,
   "metadata": {},
   "outputs": [
    {
     "data": {
      "text/plain": [
       "'In 2016, the total number of prescriptions was approximately 21 million.'"
      ]
     },
     "execution_count": 19,
     "metadata": {},
     "output_type": "execute_result"
    }
   ],
   "source": [
    "prompt = 'What was the total Prescriptions in 2016?'\n",
    "document_ask(graph_desc, prompt)"
   ]
  },
  {
   "cell_type": "code",
   "execution_count": 12,
   "metadata": {},
   "outputs": [
    {
     "data": {
      "text/plain": [
       "\"The image provides a comprehensive visualization of climate data, including average monthly rainfall, air temperatures, and satellite-derived surface water temperatures from 2000 to 2018. Here's a detailed description:\\n\\n### Main Graph\\nThe main graph displays three distinct sets of data over the months of January to December:\\n\\n1. **Average Monthly Rainfall (Tenkodogo station)**\\n    - Represented by blue bars.\\n    - No significant rainfall occurs from January to April and in December.\\n    - There is a noticeable increase starting in May, peaking in August (around 280 mm), and tapering off after September.\\n    - The highest rainfall is observed in August, followed by July and September.\\n\\n2. **Air Temperatures (Fada N'Gourma station)**\\n    - Represented by a red line with dots.\\n    - There's a steady increase from January, peaking in April (around 30°C), then steadily decreasing until August.\\n    - After August, the temperature slightly rises again, reaching another peak in October, and then decreases towards December.\\n    - The temperature varies between approximately 26°C and 31°C.\\n\\n3. **Satellite-Derived Surface Water Temperatures**\\n    - Represented by a blue line with crosses.\\n    - The water temperatures remain relatively stable throughout the year, fluctuating between approximately 28°C and 30°C.\\n    - The temperature is slightly higher in the middle of the year, peaking in April and October.\\n\\n### Inset (Annual Rainfall)\\nThe upper-right corner inset graph shows the annual rainfall totals for the years 2000 to 2018:\\n- Represented by vertical blue bars.\\n- There are missing data years (2001, 2003-2005, 2010) indicated by red 'X' marks.\\n- The annual rainfall varies significantly from year to year, with the highest recorded in 2007 (around 1100 mm).\\n- Other notable high rainfall years include 2000, 2008, and 2017.\\n\\n### General Observations\\n- Rainfall is highly seasonal, with a monsoon-like pattern peaking in the middle of the year.\\n- Both air and water temperatures exhibit seasonal variability, with air temperatures showing more pronounced fluctuations.\\n- The inset emphasizes significant variability in annual rainfall, with missing data potentially affecting long-term analyses.\\n\\nThis comprehensive visualization aids in understanding the general climatic patterns of the region over the specified period.\""
      ]
     },
     "execution_count": 12,
     "metadata": {},
     "output_type": "execute_result"
    }
   ],
   "source": [
    "prompt = 'Describe the given graphs with as much as details as possible'\n",
    "system_message = \"Average monthly rainfall for the period 2000-2018 (bar chart in blue, Tenkodogo station), air temperatures for the period 2000-2018 (red line with dots, Fada N'Gourma station) and satellite-derived surface water temperatures for the period 2000-2018 (blue line with crosses). Annual rainfall from 2000 to 2018 is shown in the inset (no data are available for 2001, 2003-2005 and 2010). https://doi.org/10.1371/journal.pntd.0009634.g002\"\n",
    "analyze_document_png(graph2, prompt+system_message)"
   ]
  },
  {
   "cell_type": "code",
   "execution_count": 8,
   "metadata": {},
   "outputs": [
    {
     "data": {
      "text/plain": [
       "\"The graph provides detailed information on PM₂.₅ concentrations across India in the year 2000. PM₂.₅ refers to particulate matter less than 2.5 micrometers in diameter, which is a critical indicator of air pollution.\\n\\n### Map Details\\nThe map of India illustrates the concentration of PM₂.₅ across various regions with the following color coding:\\n- Dark green (0 to 5 µg/m³)\\n- Light green (5 to 20 µg/m³)\\n- Yellow-green (20 to 30 µg/m³)\\n- Yellow (30 to 40 µg/m³)\\n- Light orange (40 to 50 µg/m³)\\n- Darker orange (50 to 60 µg/m³)\\n- Light red (60 to 70 µg/m³)\\n- Darker red (70 to 80 µg/m³)\\n- Dark red (80 to 90 µg/m³)\\n- Darkest red (90 to 100 µg/m³)\\n\\n### Population Exposure\\nThe bar chart on the top right shows the percentage of India's population exposed to different pollution levels:\\n- 25.8% of the population is exposed to PM₂.₅ concentrations between 20 to 30 µg/m³.\\n- 19.7% of the population is exposed to concentrations between 30 to 40 µg/m³.\\n- 14.7% of the population is exposed to concentrations between \""
      ]
     },
     "execution_count": 8,
     "metadata": {},
     "output_type": "execute_result"
    }
   ],
   "source": [
    "prompt = 'Describe the given graph with as much as details as possible'\n",
    "analyze_document_png(graph3, prompt)"
   ]
  },
  {
   "cell_type": "code",
   "execution_count": 11,
   "metadata": {},
   "outputs": [
    {
     "data": {
      "text/plain": [
       "\"The provided image displays a map of India indicating the concentration of PM2.5 particles in the year 2000. This map is used to assess air quality by measuring the concentration of fine particulate matter (PM2.5) in various regions, which can affect respiratory health.\\n\\n### Landscape Analysis:\\n- The map is divided into various regions with color-coded PM2.5 concentration levels:\\n  - **Deep Green (0 to 5 µg/m³)**: Minimal concentration areas, indicating very low pollution levels.\\n  - **Light Green (5 to 20 µg/m³)**: Low concentration areas.\\n  - **Yellow (20 to 40 µg/m³)**: Moderate concentration areas.\\n  - **Light Orange (40 to 60 µg/m³)**: High concentration areas.\\n  - **Orange (60 to 80 µg/m³)**: Very high concentration areas.\\n  - **Dark Orange/Red (80 to 100 µg/m³)**: Extremely high concentration areas.\\n\\n### Areas with High Pollution:\\n- **Northern India (especially the Indo-Gangetic Plain)**: This area has the highest levels of PM2.5, with significant portions in the dark orange/red category, indicating severe pollution levels (80 to 100 µg/m³).\\n- **North-Central India**: Also shows high pollution levels, though not as extreme as the northern region, still falling into the moderate to very high concentration range (40 to 80 µg/m³).\\n\\n### Population and Area Exposure:\\n- **Population Exposure**: \\n  - Around 25.8% of India's population is exposed to PM2.5 levels in the 20-30 µg/m³ range.\\n  - A significant portion, 19.7%, is exposed to 30-40 µg/m³.\\n  - A smaller portion (1.2%) is exposed to the highest levels (80-100 µg/m³).\\n  \\n- **Area Exposure**:\\n  - Most of India’s land area (32.2%) falls in the 5-20 µg/m³ range.\\n  - Followed by 20.1% of the area in the 20-30 µg/m³ range.\\n  - Even smaller portions of land area (2.1%) fall into the highest pollution category (80-100 µg/m³).\\n\\n### Standards:\\n- **India Annual Standard**: 40 µg/m³\\n- **WHO Annual Guideline**: 5 µg/m³\\n\\nIn summary, the map highlights significant air quality concerns, especially in northern India, where pollution levels exceed both national and international guidelines, posing high health risks to the population in these regions.\""
      ]
     },
     "execution_count": 11,
     "metadata": {},
     "output_type": "execute_result"
    }
   ],
   "source": [
    "prompt = 'Describe the landscape in the given image and highlight the areas with huge polutions'\n",
    "analyze_document_png(graph3, prompt)"
   ]
  },
  {
   "cell_type": "markdown",
   "metadata": {},
   "source": [
    "The provided image displays a map of India indicating the concentration of PM2.5 particles in the year 2000. This map is used to assess air quality by measuring the concentration of fine particulate matter (PM2.5) in various regions, which can affect respiratory health.\\n\\n### Landscape Analysis:\\n- The map is divided into various regions with color-coded PM2.5 concentration levels:\\n  - **Deep Green (0 to 5 µg/m³)**: Minimal concentration areas, indicating very low pollution levels.\\n  - **Light Green (5 to 20 µg/m³)**: Low concentration areas.\\n  - **Yellow (20 to 40 µg/m³)**: Moderate concentration areas.\\n  - **Light Orange (40 to 60 µg/m³)**: High concentration areas.\\n  - **Orange (60 to 80 µg/m³)**: Very high concentration areas.\\n  - **Dark Orange/Red (80 to 100 µg/m³)**: Extremely high concentration areas.\\n\\n### Areas with High Pollution:\\n- **Northern India (especially the Indo-Gangetic Plain)**: This area has the highest levels of PM2.5, with significant portions in the dark orange/red category, indicating severe pollution levels (80 to 100 µg/m³).\\n- **North-Central India**: Also shows high pollution levels, though not as extreme as the northern region, still falling into the moderate to very high concentration range (40 to 80 µg/m³).\\n\\n### Population and Area Exposure:\\n- **Population Exposure**: \\n  - Around 25.8% of India's population is exposed to PM2.5 levels in the 20-30 µg/m³ range.\\n  - A significant portion, 19.7%, is exposed to 30-40 µg/m³.\\n  - A smaller portion (1.2%) is exposed to the highest levels (80-100 µg/m³).\\n  \\n- **Area Exposure**:\\n  - Most of India’s land area (32.2%) falls in the 5-20 µg/m³ range.\\n  - Followed by 20.1% of the area in the 20-30 µg/m³ range.\\n  - Even smaller portions of land area (2.1%) fall into the highest pollution category (80-100 µg/m³).\\n\\n### Standards:\\n- **India Annual Standard**: 40 µg/m³\\n- **WHO Annual Guideline**: 5 µg/m³\\n\\nIn summary, the map highlights significant air quality concerns, especially in northern India, where pollution levels exceed both national and international guidelines, posing high health risks to the population in these regions."
   ]
  }
 ],
 "metadata": {
  "kernelspec": {
   "display_name": ".venv",
   "language": "python",
   "name": "python3"
  },
  "language_info": {
   "codemirror_mode": {
    "name": "ipython",
    "version": 3
   },
   "file_extension": ".py",
   "mimetype": "text/x-python",
   "name": "python",
   "nbconvert_exporter": "python",
   "pygments_lexer": "ipython3",
   "version": "3.11.9"
  }
 },
 "nbformat": 4,
 "nbformat_minor": 2
}
