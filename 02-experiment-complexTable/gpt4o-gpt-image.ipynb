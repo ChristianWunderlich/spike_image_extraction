{
 "cells": [
  {
   "cell_type": "code",
   "execution_count": 1,
   "metadata": {},
   "outputs": [],
   "source": [
    "#!pip install python-dotenv\n",
    "#!pip install openai\n",
    "#!pip install imageio\n",
    "#!pip install azure-ai-formrecognizer\n",
    "#!pip install azure-core"
   ]
  },
  {
   "cell_type": "code",
   "execution_count": 2,
   "metadata": {},
   "outputs": [
    {
     "data": {
      "text/plain": [
       "True"
      ]
     },
     "execution_count": 2,
     "metadata": {},
     "output_type": "execute_result"
    }
   ],
   "source": [
    "from openai import AzureOpenAI\n",
    "import dotenv\n",
    "import os\n",
    "import base64\n",
    "from azure.core.credentials import AzureKeyCredential\n",
    "\n",
    "dotenv.load_dotenv(override=True)"
   ]
  },
  {
   "cell_type": "code",
   "execution_count": 3,
   "metadata": {},
   "outputs": [],
   "source": [
    "client = AzureOpenAI(\n",
    "    azure_endpoint=os.getenv('AzureOpenAiEndpoint'),\n",
    "    api_key=os.getenv('AzureOpenAiKey'),\n",
    "    azure_deployment='gpt-4o',\n",
    "    api_version='2024-02-15-preview'\n",
    ")"
   ]
  },
  {
   "cell_type": "code",
   "execution_count": 4,
   "metadata": {},
   "outputs": [],
   "source": [
    "with open(\"msft.png\", \"rb\") as image_file:\n",
    "    msft_tables = base64.b64encode(image_file.read()).decode('utf-8')"
   ]
  },
  {
   "cell_type": "code",
   "execution_count": 5,
   "metadata": {},
   "outputs": [],
   "source": [
    "def analyze_document(encoded_image,prompt):\n",
    "    res = client.chat.completions.create(\n",
    "        model=\"gpt-4o\",\n",
    "        messages=[\n",
    "            {\n",
    "                \"role\": \"user\",\n",
    "                \"content\": [\n",
    "                    {\"type\": \"text\", \"text\": prompt },\n",
    "                    {\n",
    "                        \"type\": \"image_url\",\n",
    "                        \"image_url\": {\"url\": f\"data:image/png;base64,{encoded_image}\"}\n",
    "                    },\n",
    "                ],\n",
    "            }\n",
    "        ],\n",
    "    )\n",
    "    return res.choices[0].message.content"
   ]
  },
  {
   "cell_type": "code",
   "execution_count": 6,
   "metadata": {},
   "outputs": [
    {
     "data": {
      "text/plain": [
       "'The exact recorded basis for equity investments of level 1 in 2023 is $10,138 million.'"
      ]
     },
     "execution_count": 6,
     "metadata": {},
     "output_type": "execute_result"
    }
   ],
   "source": [
    "prompt = 'Provide the exact number of recorded basis for equity investments of level 1 in 2023.'\n",
    "analyze_document(msft_tables, prompt)"
   ]
  },
  {
   "cell_type": "code",
   "execution_count": 7,
   "metadata": {},
   "outputs": [
    {
     "data": {
      "text/plain": [
       "'The recorded basis for equity investments of Level 1 in June 30, 2022, is $1,590 million.'"
      ]
     },
     "execution_count": 7,
     "metadata": {},
     "output_type": "execute_result"
    }
   ],
   "source": [
    "prompt = 'Provide the exact number of recorded basis for equity investments of level 1 in 2022.'\n",
    "analyze_document(msft_tables, prompt)"
   ]
  },
  {
   "cell_type": "code",
   "execution_count": 16,
   "metadata": {},
   "outputs": [
    {
     "data": {
      "text/plain": [
       "'The recorded basis for Level 3 Corporate notes and bonds in 2023 is $0 million.'"
      ]
     },
     "execution_count": 16,
     "metadata": {},
     "output_type": "execute_result"
    }
   ],
   "source": [
    "prompt = 'Provide the Recorded Basis for Corporate notes and bonds of Level 3 in 2023.'\n",
    "analyze_document(msft_tables, prompt)"
   ]
  },
  {
   "cell_type": "code",
   "execution_count": 9,
   "metadata": {},
   "outputs": [
    {
     "data": {
      "text/plain": [
       "'The recorded basis for Corporate notes and bonds of Level 3 in 2022 was $0 million.'"
      ]
     },
     "execution_count": 9,
     "metadata": {},
     "output_type": "execute_result"
    }
   ],
   "source": [
    "prompt = 'Provide the recorded basis for Corporate notes and bonds of Level 2 in 2022.'\n",
    "analyze_document(msft_tables, prompt)"
   ]
  },
  {
   "cell_type": "code",
   "execution_count": 10,
   "metadata": {},
   "outputs": [
    {
     "data": {
      "text/plain": [
       "'For the total debt investments, the unrealized gains for the years 2023 and 2022 are as follows:\\n\\n- **2023:** $13 million\\n- **2022:** $53 million'"
      ]
     },
     "execution_count": 10,
     "metadata": {},
     "output_type": "execute_result"
    }
   ],
   "source": [
    "prompt = 'Provide the total number for unrealized gains of total debt investments for 2023 and 2022'\n",
    "analyze_document(msft_tables, prompt)"
   ]
  },
  {
   "cell_type": "markdown",
   "metadata": {},
   "source": [
    "**Extra-curriculum:**"
   ]
  },
  {
   "cell_type": "code",
   "execution_count": 17,
   "metadata": {},
   "outputs": [],
   "source": [
    "prompt = 'Extract the table as json format'\n",
    "table_json = analyze_document(msft_tables, prompt)"
   ]
  },
  {
   "cell_type": "code",
   "execution_count": 18,
   "metadata": {},
   "outputs": [
    {
     "data": {
      "text/plain": [
       "'```json\\n{\\n  \"June 30, 2023\": {\\n    \"Changes in Fair Value Recorded in Other Comprehensive Income\": [\\n      {\\n        \"Category\": \"Commercial paper\",\\n        \"Level\": 2,\\n        \"Fair Value\": 16589,\\n        \"Adjusted Cost Basis\": 0,\\n        \"Unrealized Gains\": 0,\\n        \"Unrealized Losses\": 0,\\n        \"Recorded Basis\": 16589,\\n        \"Cash and Cash Equivalents\": 12231,\\n        \"Short-term Investments\": 4358,\\n        \"Equity Investments\": 0\\n      },\\n      {\\n        \"Category\": \"Certificates of deposit\",\\n        \"Level\": 2,\\n        \"Fair Value\": 2701,\\n        \"Adjusted Cost Basis\": 0,\\n        \"Unrealized Gains\": 0,\\n        \"Unrealized Losses\": 0,\\n        \"Recorded Basis\": 2701,\\n        \"Cash and Cash Equivalents\": 2657,\\n        \"Short-term Investments\": 44,\\n        \"Equity Investments\": 0\\n      },\\n      {\\n        \"Category\": \"U.S. government securities\",\\n        \"Level\": 1,\\n        \"Fair Value\": 65237,\\n        \"Adjusted Cost Basis\": 2,\\n        \"Unrealized Gains\": 0,\\n        \"Unrealized Losses\": 3870,\\n        \"Recorded Basis\": 61369,\\n        \"Cash and Cash'"
      ]
     },
     "execution_count": 18,
     "metadata": {},
     "output_type": "execute_result"
    }
   ],
   "source": [
    "table_json"
   ]
  },
  {
   "cell_type": "code",
   "execution_count": 22,
   "metadata": {},
   "outputs": [
    {
     "data": {
      "text/plain": [
       "'The recorded basis for corporate notes and bonds of Level 3 on June 30, 2023, is $0 million.'"
      ]
     },
     "execution_count": 22,
     "metadata": {},
     "output_type": "execute_result"
    }
   ],
   "source": [
    "prompt = 'Provide the Recorded Basis for Corporate notes and bonds of Level 3 in 2023.'\n",
    "analyze_document(msft_tables, prompt)"
   ]
  }
 ],
 "metadata": {
  "kernelspec": {
   "display_name": ".venv",
   "language": "python",
   "name": "python3"
  },
  "language_info": {
   "codemirror_mode": {
    "name": "ipython",
    "version": 3
   },
   "file_extension": ".py",
   "mimetype": "text/x-python",
   "name": "python",
   "nbconvert_exporter": "python",
   "pygments_lexer": "ipython3",
   "version": "3.11.9"
  }
 },
 "nbformat": 4,
 "nbformat_minor": 2
}
